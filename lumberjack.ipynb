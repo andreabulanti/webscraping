{
 "cells": [
  {
   "cell_type": "code",
   "execution_count": 39,
   "id": "7e6864e3-678e-44ea-a926-82d95e8c1e02",
   "metadata": {},
   "outputs": [
    {
     "name": "stdout",
     "output_type": "stream",
     "text": [
      "  Category      Type    Name  price              color               materiale\n",
      "0     Uomo  Sneakers  Marvin  64.99              White  Suede-Synthetic Smooth\n",
      "1     Uomo  Sneakers  Marvin  64.99          Navy Blue  Suede-Synthetic Smooth\n",
      "2     Uomo  Sneakers  Marvin  69.99              White                 Leather\n",
      "3     Uomo  Sneakers  Marvin  69.99          Navy Blue                 Leather\n",
      "4     Uomo  Sneakers  Warner  79.99  Navy Blue/Bluette              Suede-Mesh\n"
     ]
    }
   ],
   "source": [
    "import requests\n",
    "from bs4 import BeautifulSoup\n",
    "import pandas as pd\n",
    "\n",
    "def fetch_product_details(links):\n",
    "    category_data = []\n",
    "    \n",
    "    for link in links:\n",
    "        page = requests.get(link)\n",
    "        soup = BeautifulSoup(page.text, \"html.parser\")\n",
    "        \n",
    "        product_divs = soup.find_all(\"div\", class_=\"product__name\")\n",
    "        \n",
    "        for product_div in product_divs:\n",
    "            product_link = product_div.find_parent(\"a\")\n",
    "            if product_link and 'href' in product_link.attrs:\n",
    "                product_url = \"https://www.lumberjack.com\" + product_link['href']\n",
    "                \n",
    "                product_page = requests.get(product_url)\n",
    "                product_soup = BeautifulSoup(product_page.text, \"html.parser\")\n",
    "                \n",
    "                product_details = {}\n",
    "                \n",
    "                name_tag = product_soup.find(\"h1\", class_=\"product__name\")\n",
    "                product_details[\"name\"] = name_tag.text.strip() if name_tag else \"N/A\"\n",
    "                \n",
    "                price_tag = product_soup.find(\"span\", class_=\"product__prices-sale\")\n",
    "                product_details[\"price\"] = price_tag.text.strip() if price_tag else \"N/A\"\n",
    "                \n",
    "                color_label = product_soup.find(\"div\", class_=\"detail__properties-label\", string=lambda t: \"Colore\" in t)\n",
    "                if color_label:\n",
    "                    color_value = color_label.find_next_sibling(\"div\", class_=\"detail__properties-link\")\n",
    "                    product_details[\"color\"] = color_value.text.strip() if color_value else \"N/A\"\n",
    "                \n",
    "                material_label = product_soup.find(\"div\", class_=\"detail__properties-label\", string=lambda t: \"Materiale\" in t)\n",
    "                if material_label:\n",
    "                    material_value = material_label.find_next_sibling(\"div\", class_=\"detail__properties-link\")\n",
    "                    product_details[\"materiale\"] = material_value.text.strip() if material_value else \"N/A\"\n",
    "                \n",
    "                category_data.append(product_details)\n",
    "    \n",
    "    return category_data\n",
    "\n",
    "links = [\n",
    "    \"https://www.lumberjack.com/it/sport_shoes?gender=man\",\n",
    "    \"https://www.lumberjack.com/it/boat-shoes?gender=man\",\n",
    "    \"https://www.lumberjack.com/it/slip_on?gender=woman\",\n",
    "    \"https://www.lumberjack.com/it/sandals?gender=woman\",\n",
    "    \"https://www.lumberjack.com/it/ankle-boots?gender=woman\",\n",
    "    \"https://www.lumberjack.com/it/beatles?gender=woman\",\n",
    "    \"https://www.lumberjack.com/it/outdoor?gender=woman\"\n",
    "]\n",
    "\n",
    "lumberjack_details = fetch_product_details(links)\n",
    "lumberjack_df = pd.DataFrame(lumberjack_details)\n",
    "\n",
    "lumberjack_df['price'] = pd.to_numeric(lumberjack_df['price'].astype(str).str.replace(r'\\s*EUR', '', regex=True).str.replace(',', '.'), errors='coerce')\n",
    "\n",
    "lumberjack_df['Category'] = lumberjack_df['name'].apply(lambda x: x.split()[-1])\n",
    "lumberjack_df['Name'] = lumberjack_df['name'].apply(lambda x: x.split()[0])\n",
    "lumberjack_df['Type'] = lumberjack_df['name'].apply(lambda x: ' '.join(x.split()[1:-1]) if len(x.split()) > 2 else 'N/A')\n",
    "\n",
    "lumberjack_df['Category'] = lumberjack_df['Category'].str.title()\n",
    "lumberjack_df['Name'] = lumberjack_df['Name'].str.title()\n",
    "lumberjack_df['Type'] = lumberjack_df['Type'].str.title()\n",
    "lumberjack_df['color'] = lumberjack_df['color'].str.title()\n",
    "lumberjack_df['materiale'] = lumberjack_df['materiale'].str.title()\n",
    "\n",
    "lumberjack_df = lumberjack_df[['Category', 'Type', 'Name', 'price', 'color', 'materiale']]\n",
    "\n",
    "lumberjack_df\n"
   ]
  },
  {
   "cell_type": "code",
   "execution_count": null,
   "id": "9ee42396-eea8-49c0-96ec-ac9813120e38",
   "metadata": {},
   "outputs": [],
   "source": []
  }
 ],
 "metadata": {
  "kernelspec": {
   "display_name": "Python 3 (ipykernel)",
   "language": "python",
   "name": "python3"
  },
  "language_info": {
   "codemirror_mode": {
    "name": "ipython",
    "version": 3
   },
   "file_extension": ".py",
   "mimetype": "text/x-python",
   "name": "python",
   "nbconvert_exporter": "python",
   "pygments_lexer": "ipython3",
   "version": "3.11.7"
  }
 },
 "nbformat": 4,
 "nbformat_minor": 5
}
